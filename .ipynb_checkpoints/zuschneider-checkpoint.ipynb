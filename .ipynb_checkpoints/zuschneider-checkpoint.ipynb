{
 "cells": [
  {
   "cell_type": "code",
   "execution_count": 6,
   "metadata": {},
   "outputs": [],
   "source": [
    "from PIL import Image\n",
    "import numpy as np\n",
    "import cv2\n",
    "import matplotlib.pyplot as plt\n",
    "import shutil\n",
    "import os "
   ]
  },
  {
   "cell_type": "code",
   "execution_count": 7,
   "metadata": {},
   "outputs": [],
   "source": [
    "%matplotlib qt\n",
    "%matplotlib qt"
   ]
  },
  {
   "cell_type": "code",
   "execution_count": 3,
   "metadata": {},
   "outputs": [],
   "source": [
    "path = 'C:/Users/User/Desktop/Muell_and_clean/FromGarbageKaggle'\n",
    "path_cyg = '/cygdrive/c/Users/User/Desktop/Muell_and_clean/FromGarbageKaggle'\n",
    "files_all_original_size = !ls {path_cyg}/all_original_size\n",
    "anzahl_original_size = len(files_all_original_size)"
   ]
  },
  {
   "cell_type": "code",
   "execution_count": null,
   "metadata": {},
   "outputs": [],
   "source": [
    "stop = 's'\n",
    "\n",
    "dummy_cat = cv2.imread('dummy_cat.jpg') # load a dummy image\n",
    "i = 0\n",
    "plt.figure('clean or muell')\n",
    "\n",
    "while 1:\n",
    "    if i < anzahl_original_size:  \n",
    "        plt.imshow(Image.open(path + '/all_original_size/' + files_all[i]))\n",
    "        cv2.imshow('dummy cat', dummy_cat)\n",
    "        k == cv2.waitKey()\n",
    "            if k == ord(stop):\n",
    "                x = input('x: ')\n",
    "                y = input('y: ')\n",
    "                \n",
    "            elif k == 27 #Esc\n",
    "                plt.close('all')\n",
    "                cv2.destroyAllWindows()\n",
    "                break\n",
    "                \n",
    "            elif k == -1:\n",
    "                continue\n",
    "            \n",
    "            img_size_uint8 = Image.fromarray(np.uint8(img_size))\n",
    "            img_size_uint8.save(path + '/all/' + files_all_original_size[i])"
   ]
  },
  {
   "cell_type": "code",
   "execution_count": 8,
   "metadata": {},
   "outputs": [
    {
     "data": {
      "text/plain": [
       "<matplotlib.image.AxesImage at 0x12eb0588>"
      ]
     },
     "execution_count": 8,
     "metadata": {},
     "output_type": "execute_result"
    }
   ],
   "source": [
    "plt.imshow(Image.open(path + '/all_original_size/' + files_all_original_size[0]))\n"
   ]
  },
  {
   "cell_type": "code",
   "execution_count": null,
   "metadata": {},
   "outputs": [],
   "source": []
  }
 ],
 "metadata": {
  "kernelspec": {
   "display_name": "Python 3",
   "language": "python",
   "name": "python3"
  },
  "language_info": {
   "codemirror_mode": {
    "name": "ipython",
    "version": 3
   },
   "file_extension": ".py",
   "mimetype": "text/x-python",
   "name": "python",
   "nbconvert_exporter": "python",
   "pygments_lexer": "ipython3",
   "version": "3.6.4"
  }
 },
 "nbformat": 4,
 "nbformat_minor": 2
}
